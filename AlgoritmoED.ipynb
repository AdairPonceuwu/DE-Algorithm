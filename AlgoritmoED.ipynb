{
 "cells": [
  {
   "cell_type": "code",
   "execution_count": 1,
   "id": "0da172e5-bab4-45de-a477-d888d2982ff3",
   "metadata": {},
   "outputs": [],
   "source": [
    "import numpy as np\n",
    "import random"
   ]
  },
  {
   "cell_type": "code",
   "execution_count": 2,
   "id": "5de0b87a-df8b-4e47-b33c-b318dbeab288",
   "metadata": {},
   "outputs": [],
   "source": [
    "D = 3 #Number of variables of design\n",
    "F = .5 #Scale factor\n",
    "CR = .9 #Crossover Rate\n",
    "Gmax = 2 #Number of generations\n",
    "NP = 6 #Number of population"
   ]
  },
  {
   "cell_type": "code",
   "execution_count": 3,
   "id": "68d77473-26df-4f76-879f-8f0fd457179e",
   "metadata": {},
   "outputs": [
    {
     "data": {
      "text/plain": [
       "array([[0.21, 0.99, 0.3 ],\n",
       "       [0.82, 0.6 , 0.69],\n",
       "       [0.01, 0.37, 0.34],\n",
       "       [0.93, 0.8 , 0.45],\n",
       "       [0.73, 0.42, 0.43],\n",
       "       [0.61, 0.56, 0.68]])"
      ]
     },
     "execution_count": 3,
     "metadata": {},
     "output_type": "execute_result"
    }
   ],
   "source": [
    "population = np.random.rand(NP, D).round(2) #Generate a random population array\n",
    "population"
   ]
  },
  {
   "cell_type": "code",
   "execution_count": 4,
   "id": "3ae0f59d-d147-4da0-8372-150b898955e6",
   "metadata": {},
   "outputs": [],
   "source": [
    "#Create the function to evaluate the initial population\n",
    "def f(array):\n",
    "    return np.column_stack((population, np.sum(population, axis=1)))"
   ]
  },
  {
   "cell_type": "code",
   "execution_count": 5,
   "id": "ba6f0458-5cd9-4780-a9e9-ac96d1442180",
   "metadata": {},
   "outputs": [
    {
     "data": {
      "text/plain": [
       "array([[0.21, 0.99, 0.3 , 1.5 ],\n",
       "       [0.82, 0.6 , 0.69, 2.11],\n",
       "       [0.01, 0.37, 0.34, 0.72],\n",
       "       [0.93, 0.8 , 0.45, 2.18],\n",
       "       [0.73, 0.42, 0.43, 1.58],\n",
       "       [0.61, 0.56, 0.68, 1.85]])"
      ]
     },
     "execution_count": 5,
     "metadata": {},
     "output_type": "execute_result"
    }
   ],
   "source": [
    "evaluate_population = f(population)\n",
    "evaluate_population"
   ]
  },
  {
   "cell_type": "code",
   "execution_count": 6,
   "id": "e2edc9bd-70fb-478f-8d3a-9fd518a0c269",
   "metadata": {},
   "outputs": [],
   "source": [
    "def rand_array_selection(array,exclude_value):\n",
    "    #Get the len of de population\n",
    "    index = np.arange(len(array))\n",
    "    #Exclude the current value to pass r0!=r1!=r2!=i\n",
    "    index = index[index != exclude_value]\n",
    "    #Select three index values of the population\n",
    "    selected_index = np.random.choice(index, size=3, replace=False)\n",
    "    #Save that values \n",
    "    r_collection = array[selected_index]\n",
    "    return r_collection"
   ]
  },
  {
   "cell_type": "code",
   "execution_count": 7,
   "id": "b5bb98a7-3173-472f-995f-102d35aea666",
   "metadata": {},
   "outputs": [],
   "source": [
    "u = np.zeros(3)"
   ]
  },
  {
   "cell_type": "code",
   "execution_count": 8,
   "id": "59937c0e-1a7a-4fa2-8a17-b4d5d61d5ab9",
   "metadata": {},
   "outputs": [],
   "source": [
    "g_array = []"
   ]
  },
  {
   "cell_type": "code",
   "execution_count": 9,
   "id": "21093e19-6868-44c6-a9ea-82739ad82454",
   "metadata": {},
   "outputs": [
    {
     "name": "stdout",
     "output_type": "stream",
     "text": [
      "Generation:0\n",
      "Mutación:0,valor random:0.21733913011413664, j:0, j_rand:5\n",
      "Vector mutado:[1.12  0.695 0.86 ]\n",
      "Mutación:0,valor random:0.8372748585339662, j:1, j_rand:5\n",
      "Vector mutado:[1.12  0.695 0.86 ]\n",
      "Mutación:0,valor random:0.6067254919666525, j:2, j_rand:5\n",
      "Vector mutado:[1.12  0.695 0.86 ]\n",
      "Mutación:1,valor random:0.8865134929234447, j:0, j_rand:4\n",
      "Vector mutado:[0.27  0.92  0.175]\n",
      "Mutación:1,valor random:0.5616656904079292, j:1, j_rand:4\n",
      "Vector mutado:[0.27  0.92  0.175]\n",
      "Mutación:1,valor random:0.6147810199106882, j:2, j_rand:4\n",
      "Vector mutado:[0.27  0.92  0.175]\n",
      "Mutación:2,valor random:0.004123158728369769, j:0, j_rand:1\n",
      "Vector mutado:[0.57  0.3   0.545]\n",
      "Mutación:2,valor random:0.48239308961368943, j:1, j_rand:1\n",
      "Vector mutado:[0.57  0.3   0.545]\n",
      "Mutación:2,valor random:0.38093659972742144, j:2, j_rand:1\n",
      "Vector mutado:[0.57  0.3   0.545]\n",
      "Mutación:3,valor random:0.13154883204464063, j:0, j_rand:3\n",
      "Vector mutado:[0.51 0.25 0.7 ]\n",
      "Mutación:3,valor random:0.2698881855526827, j:1, j_rand:3\n",
      "Vector mutado:[0.51 0.25 0.7 ]\n",
      "Mutación:3,valor random:0.611716904383001, j:2, j_rand:3\n",
      "Vector mutado:[0.51 0.25 0.7 ]\n",
      "Mutación:4,valor random:0.40808519964974344, j:0, j_rand:3\n",
      "Vector mutado:[0.555 0.46  0.8  ]\n",
      "Mutación:4,valor random:0.4949173098134292, j:1, j_rand:3\n",
      "Vector mutado:[0.555 0.46  0.8  ]\n",
      "Mutación:4,valor random:0.46021298020962176, j:2, j_rand:3\n",
      "Vector mutado:[0.555 0.46  0.8  ]\n",
      "Mutación:5,valor random:0.23969632558086817, j:0, j_rand:6\n",
      "Vector mutado:[1.09  0.325 0.505]\n",
      "Mutación:5,valor random:0.1083549525878823, j:1, j_rand:6\n",
      "Vector mutado:[1.09  0.325 0.505]\n",
      "Mutación:5,valor random:0.4028013393918627, j:2, j_rand:6\n",
      "Vector mutado:[1.09  0.325 0.505]\n",
      "Generation:1\n",
      "Sin mutación:0,valor random:0.9068299089555264, j:0, j_rand:6\n",
      "Mutación:0,valor random:0.5631455403223123, j:1, j_rand:6\n",
      "Vector mutado:[-0.035  0.28   0.21 ]\n",
      "Mutación:0,valor random:0.8734878006814025, j:2, j_rand:6\n",
      "Vector mutado:[-0.035  0.28   0.21 ]\n",
      "Mutación:1,valor random:0.6218246593876026, j:0, j_rand:5\n",
      "Vector mutado:[1.09  0.325 0.505]\n",
      "Mutación:1,valor random:0.3371409584046696, j:1, j_rand:5\n",
      "Vector mutado:[1.09  0.325 0.505]\n",
      "Mutación:1,valor random:0.46870904368542576, j:2, j_rand:5\n",
      "Vector mutado:[1.09  0.325 0.505]\n",
      "Mutación:2,valor random:0.6101610670433524, j:0, j_rand:3\n",
      "Vector mutado:[0.87  0.275 0.745]\n",
      "Mutación:2,valor random:0.8861874156065563, j:1, j_rand:3\n",
      "Vector mutado:[0.87  0.275 0.745]\n",
      "Mutación:2,valor random:0.26192282559551305, j:2, j_rand:3\n",
      "Vector mutado:[0.87  0.275 0.745]\n",
      "Mutación:3,valor random:0.8613664719051198, j:0, j_rand:1\n",
      "Vector mutado:[-0.035  0.28   0.21 ]\n",
      "Mutación:3,valor random:0.13030105844965012, j:1, j_rand:1\n",
      "Vector mutado:[-0.035  0.28   0.21 ]\n",
      "Mutación:3,valor random:0.022352536808922463, j:2, j_rand:1\n",
      "Vector mutado:[-0.035  0.28   0.21 ]\n",
      "Mutación:4,valor random:0.8082225140221362, j:0, j_rand:4\n",
      "Vector mutado:[-0.35   0.465  0.265]\n",
      "Mutación:4,valor random:0.15971402996472261, j:1, j_rand:4\n",
      "Vector mutado:[-0.35   0.465  0.265]\n",
      "Mutación:4,valor random:0.3418794523194517, j:2, j_rand:4\n",
      "Vector mutado:[-0.35   0.465  0.265]\n",
      "Mutación:5,valor random:0.7642383036131403, j:0, j_rand:1\n",
      "Vector mutado:[0.31 1.18 0.31]\n",
      "Mutación:5,valor random:0.5433366713786558, j:1, j_rand:1\n",
      "Vector mutado:[0.31 1.18 0.31]\n",
      "Mutación:5,valor random:0.8066325378423427, j:2, j_rand:1\n",
      "Vector mutado:[0.31 1.18 0.31]\n"
     ]
    }
   ],
   "source": [
    "for G in range(Gmax):\n",
    "    print(f\"Generation:{G}\")\n",
    "    arrays_u = np.empty((0, 3))\n",
    "    for i in range(NP):\n",
    "        r_collection = rand_array_selection(population,i)\n",
    "        v = r_collection[0] + F * (r_collection[1] - r_collection[2])\n",
    "        j_rand = random.randint(0, 6)\n",
    "        for j in range(D):\n",
    "            rand_value = random.random()\n",
    "            if (j == j_rand or rand_value < CR):\n",
    "                print(f\"Mutación:{i},valor random:{rand_value}, j:{j}, j_rand:{j_rand}\")\n",
    "                print(f\"Vector mutado:{v}\")\n",
    "                u[j] = v[j]\n",
    "            else:\n",
    "               print(f\"Sin mutación:{i},valor random:{rand_value}, j:{j}, j_rand:{j_rand}\")\n",
    "               u[j] = population[i][j]\n",
    "        arrays_u = np.vstack((arrays_u,u))\n",
    "        #print(f\"Vector prueba:{arrays_u}\")  \n",
    "    g_array.append(arrays_u)\n",
    "    \n",
    "g_array = np.array(g_array)\n",
    "    \n",
    "        \n",
    "    \n",
    "                      "
   ]
  },
  {
   "cell_type": "code",
   "execution_count": 11,
   "id": "057681dc-a046-4701-8cda-42e2ebc6cd6b",
   "metadata": {},
   "outputs": [
    {
     "data": {
      "text/plain": [
       "array([[[ 1.12 ,  0.695,  0.86 ],\n",
       "        [ 0.27 ,  0.92 ,  0.175],\n",
       "        [ 0.57 ,  0.3  ,  0.545],\n",
       "        [ 0.51 ,  0.25 ,  0.7  ],\n",
       "        [ 0.555,  0.46 ,  0.8  ],\n",
       "        [ 1.09 ,  0.325,  0.505]],\n",
       "\n",
       "       [[ 0.21 ,  0.28 ,  0.21 ],\n",
       "        [ 1.09 ,  0.325,  0.505],\n",
       "        [ 0.87 ,  0.275,  0.745],\n",
       "        [-0.035,  0.28 ,  0.21 ],\n",
       "        [-0.35 ,  0.465,  0.265],\n",
       "        [ 0.31 ,  1.18 ,  0.31 ]]])"
      ]
     },
     "execution_count": 11,
     "metadata": {},
     "output_type": "execute_result"
    }
   ],
   "source": [
    "g_array #Generations Array"
   ]
  },
  {
   "cell_type": "code",
   "execution_count": 12,
   "id": "30864b6c-71ae-4b1d-9a2b-c1d89a787869",
   "metadata": {},
   "outputs": [
    {
     "name": "stdout",
     "output_type": "stream",
     "text": [
      "Shape of Generations Array: (2, 6, 3)\n"
     ]
    }
   ],
   "source": [
    "print(\"Shape of Generations Array:\", g_array.shape)"
   ]
  }
 ],
 "metadata": {
  "kernelspec": {
   "display_name": "Python 3 (ipykernel)",
   "language": "python",
   "name": "python3"
  },
  "language_info": {
   "codemirror_mode": {
    "name": "ipython",
    "version": 3
   },
   "file_extension": ".py",
   "mimetype": "text/x-python",
   "name": "python",
   "nbconvert_exporter": "python",
   "pygments_lexer": "ipython3",
   "version": "3.12.2"
  }
 },
 "nbformat": 4,
 "nbformat_minor": 5
}
