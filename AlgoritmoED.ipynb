{
 "cells": [
  {
   "cell_type": "code",
   "execution_count": 6,
   "id": "0da172e5-bab4-45de-a477-d888d2982ff3",
   "metadata": {},
   "outputs": [],
   "source": [
    "import numpy as np\n",
    "import random"
   ]
  },
  {
   "cell_type": "code",
   "execution_count": 7,
   "id": "5de0b87a-df8b-4e47-b33c-b318dbeab288",
   "metadata": {},
   "outputs": [],
   "source": [
    "D = 3 #Number of variables of design\n",
    "F = .5 #Scale factor\n",
    "CR = .9 #Crossover Rate\n",
    "Gmax = 2 #Number of generations\n",
    "NP = 6 #Number of population"
   ]
  },
  {
   "cell_type": "code",
   "execution_count": 8,
   "id": "68d77473-26df-4f76-879f-8f0fd457179e",
   "metadata": {},
   "outputs": [
    {
     "data": {
      "text/plain": [
       "array([[0.39, 0.99, 0.64],\n",
       "       [0.35, 0.16, 0.65],\n",
       "       [0.85, 0.06, 0.58],\n",
       "       ...,\n",
       "       [0.69, 0.72, 0.76],\n",
       "       [0.47, 0.01, 0.79],\n",
       "       [0.28, 0.04, 0.43]])"
      ]
     },
     "execution_count": 8,
     "metadata": {},
     "output_type": "execute_result"
    }
   ],
   "source": [
    "population = np.random.rand(500, D).round(2) #Generate a random population array\n",
    "population"
   ]
  },
  {
   "cell_type": "code",
   "execution_count": 9,
   "id": "3ae0f59d-d147-4da0-8372-150b898955e6",
   "metadata": {},
   "outputs": [],
   "source": [
    "#Create the function to evaluate the initial population\n",
    "def f(array):\n",
    "    return np.column_stack((population, np.sum(population, axis=1)))"
   ]
  },
  {
   "cell_type": "code",
   "execution_count": 10,
   "id": "ba6f0458-5cd9-4780-a9e9-ac96d1442180",
   "metadata": {},
   "outputs": [
    {
     "data": {
      "text/plain": [
       "array([[0.39, 0.99, 0.64, 2.02],\n",
       "       [0.35, 0.16, 0.65, 1.16],\n",
       "       [0.85, 0.06, 0.58, 1.49],\n",
       "       ...,\n",
       "       [0.69, 0.72, 0.76, 2.17],\n",
       "       [0.47, 0.01, 0.79, 1.27],\n",
       "       [0.28, 0.04, 0.43, 0.75]])"
      ]
     },
     "execution_count": 10,
     "metadata": {},
     "output_type": "execute_result"
    }
   ],
   "source": [
    "evaluate_population = f(population)\n",
    "evaluate_population"
   ]
  },
  {
   "cell_type": "code",
   "execution_count": 11,
   "id": "e2edc9bd-70fb-478f-8d3a-9fd518a0c269",
   "metadata": {},
   "outputs": [],
   "source": [
    "def rand_array_selection(array,exclude_value):\n",
    "    #Get the len of de population\n",
    "    index = np.arange(len(array))\n",
    "    #Exclude the current value to pass r0!=r1!=r2!=i\n",
    "    index = index[index != exclude_value]\n",
    "    #Select three index values of the population\n",
    "    selected_index = np.random.choice(index, size=3, replace=False)\n",
    "    #Save that values \n",
    "    r_collection = array[selected_index]\n",
    "    return r_collection"
   ]
  },
  {
   "cell_type": "code",
   "execution_count": 14,
   "id": "21093e19-6868-44c6-a9ea-82739ad82454",
   "metadata": {},
   "outputs": [
    {
     "name": "stdout",
     "output_type": "stream",
     "text": [
      "Generation:0\n",
      "Mutación:0,valor random:0.8771301561408011, j:0, j_rand:6\n",
      "Vector mutado:[0.59  0.445 0.4  ]\n",
      "Mutación:0,valor random:0.18346103393412305, j:1, j_rand:6\n",
      "Vector mutado:[0.59  0.445 0.4  ]\n",
      "Mutación:0,valor random:0.06683461650384959, j:2, j_rand:6\n",
      "Vector mutado:[0.59  0.445 0.4  ]\n",
      "Mutación:1,valor random:0.633353121663201, j:0, j_rand:1\n",
      "Vector mutado:[0.855 0.095 0.515]\n",
      "Mutación:1,valor random:0.32149703225859816, j:1, j_rand:1\n",
      "Vector mutado:[0.855 0.095 0.515]\n",
      "Mutación:1,valor random:0.753344320694937, j:2, j_rand:1\n",
      "Vector mutado:[0.855 0.095 0.515]\n",
      "Mutación:2,valor random:0.5865612227252931, j:0, j_rand:2\n",
      "Vector mutado:[0.015 0.38  1.025]\n",
      "Mutación:2,valor random:0.8776624814256632, j:1, j_rand:2\n",
      "Vector mutado:[0.015 0.38  1.025]\n",
      "Mutación:2,valor random:0.8027211603283203, j:2, j_rand:2\n",
      "Vector mutado:[0.015 0.38  1.025]\n",
      "Mutación:3,valor random:0.6698151430217903, j:0, j_rand:0\n",
      "Vector mutado:[0.265 0.565 0.565]\n",
      "Mutación:3,valor random:0.7282383937999778, j:1, j_rand:0\n",
      "Vector mutado:[0.265 0.565 0.565]\n",
      "Sin mutación:3,valor random:0.9144560984142871, j:2, j_rand:0\n",
      "Mutación:4,valor random:0.7695247646938427, j:0, j_rand:5\n",
      "Vector mutado:[0.045 0.585 0.015]\n",
      "Mutación:4,valor random:0.506902748408627, j:1, j_rand:5\n",
      "Vector mutado:[0.045 0.585 0.015]\n",
      "Mutación:4,valor random:0.05519980655685208, j:2, j_rand:5\n",
      "Vector mutado:[0.045 0.585 0.015]\n",
      "Mutación:5,valor random:0.3302025482501706, j:0, j_rand:5\n",
      "Vector mutado:[0.395 0.365 0.36 ]\n",
      "Mutación:5,valor random:0.7696724359806202, j:1, j_rand:5\n",
      "Vector mutado:[0.395 0.365 0.36 ]\n",
      "Sin mutación:5,valor random:0.9695793737893885, j:2, j_rand:5\n",
      "Generation:1\n",
      "Mutación:0,valor random:0.7539484965318015, j:0, j_rand:5\n",
      "Vector mutado:[0.015 0.74  0.565]\n",
      "Mutación:0,valor random:0.5787679462568902, j:1, j_rand:5\n",
      "Vector mutado:[0.015 0.74  0.565]\n",
      "Mutación:0,valor random:0.6486791186882961, j:2, j_rand:5\n",
      "Vector mutado:[0.015 0.74  0.565]\n",
      "Sin mutación:1,valor random:0.9465488132229507, j:0, j_rand:1\n",
      "Mutación:1,valor random:0.9663529373967606, j:1, j_rand:1\n",
      "Vector mutado:[1.25  0.735 0.135]\n",
      "Mutación:1,valor random:0.6971582539970298, j:2, j_rand:1\n",
      "Vector mutado:[1.25  0.735 0.135]\n",
      "Mutación:2,valor random:0.25549554868685964, j:0, j_rand:5\n",
      "Vector mutado:[ 0.755 -0.11   0.765]\n",
      "Mutación:2,valor random:0.7882169812536745, j:1, j_rand:5\n",
      "Vector mutado:[ 0.755 -0.11   0.765]\n",
      "Mutación:2,valor random:0.34630854555517887, j:2, j_rand:5\n",
      "Vector mutado:[ 0.755 -0.11   0.765]\n",
      "Mutación:3,valor random:0.0485467186786912, j:0, j_rand:6\n",
      "Vector mutado:[0.495 0.555 0.685]\n",
      "Mutación:3,valor random:0.7309452830638145, j:1, j_rand:6\n",
      "Vector mutado:[0.495 0.555 0.685]\n",
      "Mutación:3,valor random:0.39288790872816404, j:2, j_rand:6\n",
      "Vector mutado:[0.495 0.555 0.685]\n",
      "Mutación:4,valor random:0.8480022173685932, j:0, j_rand:6\n",
      "Vector mutado:[1.195 0.52  1.195]\n",
      "Sin mutación:4,valor random:0.9430810241843781, j:1, j_rand:6\n",
      "Mutación:4,valor random:0.14382102696269483, j:2, j_rand:6\n",
      "Vector mutado:[1.195 0.52  1.195]\n",
      "Mutación:5,valor random:0.7758294930229782, j:0, j_rand:1\n",
      "Vector mutado:[0.43 0.53 0.38]\n",
      "Mutación:5,valor random:0.9511847814174512, j:1, j_rand:1\n",
      "Vector mutado:[0.43 0.53 0.38]\n",
      "Sin mutación:5,valor random:0.9669222490521231, j:2, j_rand:1\n"
     ]
    }
   ],
   "source": [
    "for G in range(Gmax):\n",
    "    print(f\"Generation:{G}\")\n",
    "    for i in range(NP):\n",
    "        r_collection = rand_array_selection(population,i)\n",
    "        j_rand = random.randint(0, 6)\n",
    "        for j in range(D):\n",
    "            rand_value = random.random()\n",
    "            if (j == j_rand or rand_value < CR):\n",
    "                print(f\"Mutación:{i},valor random:{rand_value}, j:{j}, j_rand:{j_rand}\")\n",
    "                v = r_collection[0] + F * (r_collection[1] - r_collection[2])\n",
    "                print(f\"Vector mutado:{v}\")\n",
    "            else:\n",
    "               print(f\"Sin mutación:{i},valor random:{rand_value}, j:{j}, j_rand:{j_rand}\")\n",
    "            "
   ]
  },
  {
   "cell_type": "code",
   "execution_count": 13,
   "id": "41667511-2ef5-427d-b320-720fc2b85ad8",
   "metadata": {},
   "outputs": [],
   "source": [
    "#Algoritm of Diferential Evolution\n",
    "i=0\n",
    "while True:\n",
    "    \n",
    "    i=i+1\n",
    "    if i == Gmax:\n",
    "        break;\n"
   ]
  }
 ],
 "metadata": {
  "kernelspec": {
   "display_name": "Python 3 (ipykernel)",
   "language": "python",
   "name": "python3"
  },
  "language_info": {
   "codemirror_mode": {
    "name": "ipython",
    "version": 3
   },
   "file_extension": ".py",
   "mimetype": "text/x-python",
   "name": "python",
   "nbconvert_exporter": "python",
   "pygments_lexer": "ipython3",
   "version": "3.12.2"
  }
 },
 "nbformat": 4,
 "nbformat_minor": 5
}
